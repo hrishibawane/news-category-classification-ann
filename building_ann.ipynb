{
 "cells": [
  {
   "cell_type": "code",
   "execution_count": 2,
   "metadata": {},
   "outputs": [],
   "source": [
    "import pandas as pd\n",
    "import numpy as np\n",
    "import matplotlib.pyplot as plt\n",
    "from nltk.corpus import stopwords\n",
    "from nltk.tokenize import word_tokenize \n",
    "import string"
   ]
  },
  {
   "cell_type": "markdown",
   "metadata": {},
   "source": [
    "## Read Data"
   ]
  },
  {
   "cell_type": "code",
   "execution_count": 3,
   "metadata": {
    "scrolled": false
   },
   "outputs": [
    {
     "data": {
      "text/html": [
       "<div>\n",
       "<style scoped>\n",
       "    .dataframe tbody tr th:only-of-type {\n",
       "        vertical-align: middle;\n",
       "    }\n",
       "\n",
       "    .dataframe tbody tr th {\n",
       "        vertical-align: top;\n",
       "    }\n",
       "\n",
       "    .dataframe thead th {\n",
       "        text-align: right;\n",
       "    }\n",
       "</style>\n",
       "<table border=\"1\" class=\"dataframe\">\n",
       "  <thead>\n",
       "    <tr style=\"text-align: right;\">\n",
       "      <th></th>\n",
       "      <th>category</th>\n",
       "      <th>headline</th>\n",
       "      <th>authors</th>\n",
       "      <th>link</th>\n",
       "      <th>short_description</th>\n",
       "      <th>date</th>\n",
       "    </tr>\n",
       "  </thead>\n",
       "  <tbody>\n",
       "    <tr>\n",
       "      <th>0</th>\n",
       "      <td>CRIME</td>\n",
       "      <td>There Were 2 Mass Shootings In Texas Last Week...</td>\n",
       "      <td>Melissa Jeltsen</td>\n",
       "      <td>https://www.huffingtonpost.com/entry/texas-ama...</td>\n",
       "      <td>She left her husband. He killed their children...</td>\n",
       "      <td>2018-05-26</td>\n",
       "    </tr>\n",
       "    <tr>\n",
       "      <th>1</th>\n",
       "      <td>ENTERTAINMENT</td>\n",
       "      <td>Will Smith Joins Diplo And Nicky Jam For The 2...</td>\n",
       "      <td>Andy McDonald</td>\n",
       "      <td>https://www.huffingtonpost.com/entry/will-smit...</td>\n",
       "      <td>Of course it has a song.</td>\n",
       "      <td>2018-05-26</td>\n",
       "    </tr>\n",
       "    <tr>\n",
       "      <th>2</th>\n",
       "      <td>ENTERTAINMENT</td>\n",
       "      <td>Hugh Grant Marries For The First Time At Age 57</td>\n",
       "      <td>Ron Dicker</td>\n",
       "      <td>https://www.huffingtonpost.com/entry/hugh-gran...</td>\n",
       "      <td>The actor and his longtime girlfriend Anna Ebe...</td>\n",
       "      <td>2018-05-26</td>\n",
       "    </tr>\n",
       "    <tr>\n",
       "      <th>3</th>\n",
       "      <td>ENTERTAINMENT</td>\n",
       "      <td>Jim Carrey Blasts 'Castrato' Adam Schiff And D...</td>\n",
       "      <td>Ron Dicker</td>\n",
       "      <td>https://www.huffingtonpost.com/entry/jim-carre...</td>\n",
       "      <td>The actor gives Dems an ass-kicking for not fi...</td>\n",
       "      <td>2018-05-26</td>\n",
       "    </tr>\n",
       "    <tr>\n",
       "      <th>4</th>\n",
       "      <td>ENTERTAINMENT</td>\n",
       "      <td>Julianna Margulies Uses Donald Trump Poop Bags...</td>\n",
       "      <td>Ron Dicker</td>\n",
       "      <td>https://www.huffingtonpost.com/entry/julianna-...</td>\n",
       "      <td>The \"Dietland\" actress said using the bags is ...</td>\n",
       "      <td>2018-05-26</td>\n",
       "    </tr>\n",
       "  </tbody>\n",
       "</table>\n",
       "</div>"
      ],
      "text/plain": [
       "        category                                           headline  \\\n",
       "0          CRIME  There Were 2 Mass Shootings In Texas Last Week...   \n",
       "1  ENTERTAINMENT  Will Smith Joins Diplo And Nicky Jam For The 2...   \n",
       "2  ENTERTAINMENT    Hugh Grant Marries For The First Time At Age 57   \n",
       "3  ENTERTAINMENT  Jim Carrey Blasts 'Castrato' Adam Schiff And D...   \n",
       "4  ENTERTAINMENT  Julianna Margulies Uses Donald Trump Poop Bags...   \n",
       "\n",
       "           authors                                               link  \\\n",
       "0  Melissa Jeltsen  https://www.huffingtonpost.com/entry/texas-ama...   \n",
       "1    Andy McDonald  https://www.huffingtonpost.com/entry/will-smit...   \n",
       "2       Ron Dicker  https://www.huffingtonpost.com/entry/hugh-gran...   \n",
       "3       Ron Dicker  https://www.huffingtonpost.com/entry/jim-carre...   \n",
       "4       Ron Dicker  https://www.huffingtonpost.com/entry/julianna-...   \n",
       "\n",
       "                                   short_description       date  \n",
       "0  She left her husband. He killed their children... 2018-05-26  \n",
       "1                           Of course it has a song. 2018-05-26  \n",
       "2  The actor and his longtime girlfriend Anna Ebe... 2018-05-26  \n",
       "3  The actor gives Dems an ass-kicking for not fi... 2018-05-26  \n",
       "4  The \"Dietland\" actress said using the bags is ... 2018-05-26  "
      ]
     },
     "execution_count": 3,
     "metadata": {},
     "output_type": "execute_result"
    }
   ],
   "source": [
    "data = pd.read_json(\"news-category-dataset/News_Category_Dataset_v2.json\", lines=True)\n",
    "data.head()"
   ]
  },
  {
   "cell_type": "code",
   "execution_count": 107,
   "metadata": {
    "scrolled": true
   },
   "outputs": [
    {
     "name": "stdout",
     "output_type": "stream",
     "text": [
      "POLITICS          32739\n",
      "WELLNESS          17827\n",
      "ENTERTAINMENT     16058\n",
      "TRAVEL             9887\n",
      "STYLE & BEAUTY     9649\n",
      "PARENTING          8677\n",
      "HEALTHY LIVING     6694\n",
      "QUEER VOICES       6314\n",
      "FOOD & DRINK       6226\n",
      "BUSINESS           5937\n",
      "COMEDY             5175\n",
      "SPORTS             4884\n",
      "BLACK VOICES       4528\n",
      "HOME & LIVING      4195\n",
      "PARENTS            3955\n",
      "THE WORLDPOST      3664\n",
      "WEDDINGS           3651\n",
      "WOMEN              3490\n",
      "IMPACT             3459\n",
      "DIVORCE            3426\n",
      "CRIME              3405\n",
      "MEDIA              2815\n",
      "WEIRD NEWS         2670\n",
      "GREEN              2622\n",
      "WORLDPOST          2579\n",
      "RELIGION           2556\n",
      "STYLE              2254\n",
      "SCIENCE            2178\n",
      "WORLD NEWS         2177\n",
      "TASTE              2096\n",
      "TECH               2082\n",
      "MONEY              1707\n",
      "ARTS               1509\n",
      "FIFTY              1401\n",
      "GOOD NEWS          1398\n",
      "ARTS & CULTURE     1339\n",
      "ENVIRONMENT        1323\n",
      "COLLEGE            1144\n",
      "LATINO VOICES      1129\n",
      "CULTURE & ARTS     1030\n",
      "EDUCATION          1004\n",
      "Name: category, dtype: int64\n"
     ]
    }
   ],
   "source": [
    "# extract required data\n",
    "\n",
    "input_data = data[['headline', 'short_description']]\n",
    "output_data = data[['category']]\n",
    "data['category'].value_counts()"
   ]
  },
  {
   "cell_type": "markdown",
   "metadata": {},
   "source": [
    "## Data Preprocessing\n",
    "\n",
    "Remove punctuations, digits and stopwords from concatenation of headline and short description"
   ]
  },
  {
   "cell_type": "code",
   "execution_count": 108,
   "metadata": {},
   "outputs": [],
   "source": [
    "def preprocess_text(text):\n",
    "    text = text.translate(str.maketrans('', '', string.punctuation))\n",
    "    text = text.translate(str.maketrans('', '', string.digits))\n",
    "    text_tokens = word_tokenize(text.lower())\n",
    "    text_vec = [w for w in text_tokens if not w in stop_words]\n",
    "    text_str = (\" \").join(text_vec)\n",
    "    return text_str"
   ]
  },
  {
   "cell_type": "code",
   "execution_count": 5,
   "metadata": {
    "scrolled": false
   },
   "outputs": [
    {
     "name": "stdout",
     "output_type": "stream",
     "text": [
      "Iteration 0\n",
      "Iteration 10000\n",
      "Iteration 20000\n",
      "Iteration 30000\n",
      "Iteration 40000\n",
      "Iteration 50000\n",
      "Iteration 60000\n",
      "Iteration 70000\n",
      "Iteration 80000\n",
      "Iteration 90000\n",
      "Iteration 100000\n",
      "Iteration 110000\n",
      "Iteration 120000\n",
      "Iteration 130000\n",
      "Iteration 140000\n",
      "Iteration 150000\n",
      "Iteration 160000\n",
      "Iteration 170000\n",
      "Iteration 180000\n",
      "Iteration 190000\n",
      "Iteration 200000\n"
     ]
    },
    {
     "data": {
      "text/plain": [
       "('mass shootings texas last week tv left husband killed children another day america',\n",
       " 'CRIME')"
      ]
     },
     "execution_count": 5,
     "metadata": {},
     "output_type": "execute_result"
    }
   ],
   "source": [
    "# combine heading and short_desc without stopwords\n",
    "X = []\n",
    "y = []\n",
    "stop_words = set(stopwords.words('english'))\n",
    "for i in range(len(data)):\n",
    "    if i%10000==0:\n",
    "        print(\"Iteration\", i)\n",
    "    str1 = input_data.iloc[i,0] + ' ' + input_data.iloc[i,1]\n",
    "    str1 = preprocess_text(str1)\n",
    "    X.append(str1)\n",
    "    y.append(output_data.iloc[i,0])\n",
    "    \n",
    "X[0], y[0]"
   ]
  },
  {
   "cell_type": "markdown",
   "metadata": {},
   "source": [
    "## Vectorization of text data\n",
    "\n",
    "Vectorize the text data using TF-IDF "
   ]
  },
  {
   "cell_type": "code",
   "execution_count": 12,
   "metadata": {},
   "outputs": [
    {
     "name": "stdout",
     "output_type": "stream",
     "text": [
      "(200853, 107760)\n"
     ]
    }
   ],
   "source": [
    "# vectorization\n",
    "from sklearn.feature_extraction.text import TfidfVectorizer\n",
    "\n",
    "tfidf = TfidfVectorizer()\n",
    "X_tfidf = tfidf.fit_transform(X)\n",
    "print(X_tfidf.shape)"
   ]
  },
  {
   "cell_type": "code",
   "execution_count": 59,
   "metadata": {},
   "outputs": [
    {
     "data": {
      "text/plain": [
       "(200853, 41)"
      ]
     },
     "execution_count": 59,
     "metadata": {},
     "output_type": "execute_result"
    }
   ],
   "source": [
    "labels = list(data['category'].unique())\n",
    "ids = [i for i in range(len(labels))]\n",
    "labels_dict = dict(zip(labels, ids))\n",
    "y_nums = [labels_dict[y[i]] for i in range(len(y))]\n",
    "len(y_nums), len(labels_dict)"
   ]
  },
  {
   "cell_type": "code",
   "execution_count": 8,
   "metadata": {},
   "outputs": [
    {
     "data": {
      "text/plain": [
       "array([[0., 0., 0., ..., 0., 0., 0.]])"
      ]
     },
     "execution_count": 8,
     "metadata": {},
     "output_type": "execute_result"
    }
   ],
   "source": [
    "X_tfidf[0].toarray()"
   ]
  },
  {
   "cell_type": "code",
   "execution_count": 14,
   "metadata": {},
   "outputs": [
    {
     "data": {
      "text/plain": [
       "<1x107760 sparse matrix of type '<class 'numpy.float64'>'\n",
       "\twith 13 stored elements in Compressed Sparse Row format>"
      ]
     },
     "execution_count": 14,
     "metadata": {},
     "output_type": "execute_result"
    }
   ],
   "source": [
    "X_tfidf[0]"
   ]
  },
  {
   "cell_type": "markdown",
   "metadata": {},
   "source": [
    "## Building the ANN\n",
    "\n",
    "This is a 3-layer ANN model. The model gave about 99.9% accuracy"
   ]
  },
  {
   "cell_type": "code",
   "execution_count": 15,
   "metadata": {},
   "outputs": [],
   "source": [
    "from keras.models import Sequential\n",
    "from keras.layers import Dense"
   ]
  },
  {
   "cell_type": "code",
   "execution_count": 36,
   "metadata": {},
   "outputs": [
    {
     "name": "stdout",
     "output_type": "stream",
     "text": [
      "_________________________________________________________________\n",
      "Layer (type)                 Output Shape              Param #   \n",
      "=================================================================\n",
      "dense_16 (Dense)             (None, 64)                6896704   \n",
      "_________________________________________________________________\n",
      "dense_17 (Dense)             (None, 64)                4160      \n",
      "_________________________________________________________________\n",
      "dense_18 (Dense)             (None, 41)                2665      \n",
      "=================================================================\n",
      "Total params: 6,903,529\n",
      "Trainable params: 6,903,529\n",
      "Non-trainable params: 0\n",
      "_________________________________________________________________\n"
     ]
    }
   ],
   "source": [
    "model = Sequential()\n",
    "\n",
    "model.add(Dense(units=64, activation='relu', input_dim=X_tfidf.shape[1]))\n",
    "\n",
    "model.add(Dense(units=64, activation='relu'))\n",
    "\n",
    "model.add(Dense(units=41, activation='sigmoid'))\n",
    "\n",
    "model.summary()"
   ]
  },
  {
   "cell_type": "code",
   "execution_count": 37,
   "metadata": {},
   "outputs": [],
   "source": [
    "model.compile(optimizer='adam', loss='sparse_categorical_crossentropy', metrics=['accuracy'])\n"
   ]
  },
  {
   "cell_type": "code",
   "execution_count": 38,
   "metadata": {
    "scrolled": false
   },
   "outputs": [
    {
     "name": "stdout",
     "output_type": "stream",
     "text": [
      "Epoch 1/50\n",
      "200853/200853 [==============================] - 498s 2ms/step - loss: 1.8426 - acc: 0.5102\n",
      "Epoch 2/50\n",
      "200853/200853 [==============================] - 498s 2ms/step - loss: 1.0042 - acc: 0.7082\n",
      "Epoch 3/50\n",
      "200853/200853 [==============================] - 498s 2ms/step - loss: 0.6462 - acc: 0.8078\n",
      "Epoch 4/50\n",
      "200853/200853 [==============================] - 502s 3ms/step - loss: 0.4146 - acc: 0.8740\n",
      "Epoch 5/50\n",
      "200853/200853 [==============================] - 499s 2ms/step - loss: 0.2662 - acc: 0.9182\n",
      "Epoch 6/50\n",
      "200853/200853 [==============================] - 504s 3ms/step - loss: 0.1703 - acc: 0.9472\n",
      "Epoch 7/50\n",
      "200853/200853 [==============================] - 501s 2ms/step - loss: 0.1084 - acc: 0.9662\n",
      "Epoch 8/50\n",
      "200853/200853 [==============================] - 502s 2ms/step - loss: 0.0684 - acc: 0.9782\n",
      "Epoch 9/50\n",
      "200853/200853 [==============================] - 511s 3ms/step - loss: 0.0451 - acc: 0.9850\n",
      "Epoch 10/50\n",
      "200853/200853 [==============================] - 506s 3ms/step - loss: 0.0297 - acc: 0.9897\n",
      "Epoch 11/50\n",
      "200853/200853 [==============================] - 507s 3ms/step - loss: 0.0201 - acc: 0.9929\n",
      "Epoch 12/50\n",
      "200853/200853 [==============================] - 503s 3ms/step - loss: 0.0147 - acc: 0.9944\n",
      "Epoch 13/50\n",
      "200853/200853 [==============================] - 504s 3ms/step - loss: 0.0110 - acc: 0.9955\n",
      "Epoch 14/50\n",
      "200853/200853 [==============================] - 472s 2ms/step - loss: 0.0089 - acc: 0.9960\n",
      "Epoch 15/50\n",
      "200853/200853 [==============================] - 427s 2ms/step - loss: 0.0071 - acc: 0.9968\n",
      "Epoch 16/50\n",
      "200853/200853 [==============================] - 425s 2ms/step - loss: 0.0060 - acc: 0.9970\n",
      "Epoch 17/50\n",
      "200853/200853 [==============================] - 426s 2ms/step - loss: 0.0054 - acc: 0.9973\n",
      "Epoch 18/50\n",
      "200853/200853 [==============================] - 429s 2ms/step - loss: 0.0044 - acc: 0.9977\n",
      "Epoch 19/50\n",
      "200853/200853 [==============================] - 433s 2ms/step - loss: 0.0039 - acc: 0.9980\n",
      "Epoch 20/50\n",
      "200853/200853 [==============================] - 431s 2ms/step - loss: 0.0036 - acc: 0.9982\n",
      "Epoch 21/50\n",
      "200853/200853 [==============================] - 433s 2ms/step - loss: 0.0031 - acc: 0.9984\n",
      "Epoch 22/50\n",
      "200853/200853 [==============================] - 432s 2ms/step - loss: 0.0026 - acc: 0.9985\n",
      "Epoch 23/50\n",
      "200853/200853 [==============================] - 434s 2ms/step - loss: 0.0023 - acc: 0.9987\n",
      "Epoch 24/50\n",
      "200853/200853 [==============================] - 432s 2ms/step - loss: 0.0023 - acc: 0.9987\n",
      "Epoch 25/50\n",
      "200853/200853 [==============================] - 432s 2ms/step - loss: 0.0020 - acc: 0.9989\n",
      "Epoch 26/50\n",
      "200853/200853 [==============================] - 430s 2ms/step - loss: 0.0019 - acc: 0.9989\n",
      "Epoch 27/50\n",
      "200853/200853 [==============================] - 431s 2ms/step - loss: 0.0017 - acc: 0.9990\n",
      "Epoch 28/50\n",
      "200853/200853 [==============================] - 432s 2ms/step - loss: 0.0018 - acc: 0.9990\n",
      "Epoch 29/50\n",
      "200853/200853 [==============================] - 435s 2ms/step - loss: 0.0017 - acc: 0.9990\n",
      "Epoch 30/50\n",
      "200853/200853 [==============================] - 432s 2ms/step - loss: 0.0016 - acc: 0.9990\n",
      "Epoch 31/50\n",
      "200853/200853 [==============================] - 440s 2ms/step - loss: 0.0015 - acc: 0.9991\n",
      "Epoch 32/50\n",
      "200853/200853 [==============================] - 432s 2ms/step - loss: 0.0015 - acc: 0.9991\n",
      "Epoch 33/50\n",
      "200853/200853 [==============================] - 423s 2ms/step - loss: 0.0017 - acc: 0.9991\n",
      "Epoch 34/50\n",
      "200853/200853 [==============================] - 428s 2ms/step - loss: 0.0015 - acc: 0.9992\n",
      "Epoch 35/50\n",
      "200853/200853 [==============================] - 446s 2ms/step - loss: 0.0014 - acc: 0.9992\n",
      "Epoch 36/50\n",
      "200853/200853 [==============================] - 432s 2ms/step - loss: 0.0014 - acc: 0.9992\n",
      "Epoch 37/50\n",
      "200853/200853 [==============================] - 433s 2ms/step - loss: 0.0013 - acc: 0.9992\n",
      "Epoch 38/50\n",
      "200853/200853 [==============================] - 460s 2ms/step - loss: 0.0013 - acc: 0.9992\n",
      "Epoch 39/50\n",
      "200853/200853 [==============================] - 479s 2ms/step - loss: 0.0014 - acc: 0.9992\n",
      "Epoch 40/50\n",
      "200853/200853 [==============================] - 434s 2ms/step - loss: 0.0013 - acc: 0.9992\n",
      "Epoch 41/50\n",
      "200853/200853 [==============================] - 437s 2ms/step - loss: 0.0012 - acc: 0.9993\n",
      "Epoch 42/50\n",
      "200853/200853 [==============================] - 439s 2ms/step - loss: 0.0012 - acc: 0.9993\n",
      "Epoch 43/50\n",
      "200853/200853 [==============================] - 438s 2ms/step - loss: 0.0012 - acc: 0.9993\n",
      "Epoch 44/50\n",
      "200853/200853 [==============================] - 435s 2ms/step - loss: 0.0012 - acc: 0.9993\n",
      "Epoch 45/50\n",
      "200853/200853 [==============================] - 454s 2ms/step - loss: 0.0012 - acc: 0.9993\n",
      "Epoch 46/50\n",
      "200853/200853 [==============================] - 473s 2ms/step - loss: 0.0011 - acc: 0.9993\n",
      "Epoch 47/50\n",
      "200853/200853 [==============================] - 443s 2ms/step - loss: 0.0011 - acc: 0.9993\n",
      "Epoch 48/50\n",
      "200853/200853 [==============================] - 453s 2ms/step - loss: 0.0011 - acc: 0.9993\n",
      "Epoch 49/50\n",
      "200853/200853 [==============================] - 449s 2ms/step - loss: 0.0011 - acc: 0.9993\n",
      "Epoch 50/50\n",
      "200853/200853 [==============================] - 477s 2ms/step - loss: 0.0016 - acc: 0.9993\n"
     ]
    }
   ],
   "source": [
    "history = model.fit(X_tfidf, y_nums, batch_size=64, epochs=50)"
   ]
  },
  {
   "cell_type": "code",
   "execution_count": 39,
   "metadata": {},
   "outputs": [],
   "source": [
    "model.save('model.h5')"
   ]
  },
  {
   "cell_type": "code",
   "execution_count": 40,
   "metadata": {},
   "outputs": [
    {
     "data": {
      "text/plain": [
       "dict_keys(['loss', 'acc'])"
      ]
     },
     "execution_count": 40,
     "metadata": {},
     "output_type": "execute_result"
    }
   ],
   "source": [
    "history.history.keys()"
   ]
  },
  {
   "cell_type": "code",
   "execution_count": 109,
   "metadata": {
    "scrolled": false
   },
   "outputs": [
    {
     "data": {
      "image/png": "[encoded data removed]",
      "text/plain": [
       "<Figure size 720x432 with 1 Axes>"
      ]
     },
     "metadata": {
      "needs_background": "light"
     },
     "output_type": "display_data"
    }
   ],
   "source": [
    "plt.figure(figsize=(10,6))\n",
    "plt.plot(history.history['acc'])\n",
    "plt.plot(history.history['loss'])\n",
    "plt.title('Accuracy vs Loss')\n",
    "plt.xlabel('epoch')\n",
    "plt.legend(['accuracy', 'loss'])\n",
    "plt.show()"
   ]
  },
  {
   "cell_type": "markdown",
   "metadata": {},
   "source": [
    "## Testing on random news articles"
   ]
  },
  {
   "cell_type": "code",
   "execution_count": 110,
   "metadata": {},
   "outputs": [
    {
     "data": {
      "text/plain": [
       "((1, 107760),\n",
       " 'oneandahalfmonthold baby dies coronavirus delhi hospital active cases india oneandahalfmonthold baby boy delhi died coronavirus becoming country ’ youngest victim infection also affected dayold infant girl bhopal covid cases jumped one thousand sixth straight day sunday prompting authorities scale rapid antibody based blood tests')"
      ]
     },
     "execution_count": 110,
     "metadata": {},
     "output_type": "execute_result"
    }
   ],
   "source": [
    "# Testing\n",
    "headline = \"One-and-a-half-month-old Baby Dies of Coronavirus in Delhi Hospital; 16,000 Active Cases in India\"\n",
    "short_desc = \"A one-and-a-half-month-old baby boy in Delhi has died of coronavirus becoming the country’s youngest victim of the infection which also affected a 12-day-old infant girl in Bhopal, as COVID-19 cases jumped by over one thousand for the sixth straight day on Sunday prompting authorities to scale up rapid antibody based blood tests.\"\n",
    "\n",
    "test = headline + ' ' + short_desc\n",
    "test = preprocess_text(test)\n",
    "X_test = []\n",
    "X_test.append(test)\n",
    "\n",
    "X_test_tfidf = tfidf.transform(X_test)\n",
    "X_test_tfidf.shape, test"
   ]
  },
  {
   "cell_type": "code",
   "execution_count": 111,
   "metadata": {},
   "outputs": [
    {
     "name": "stdout",
     "output_type": "stream",
     "text": [
      "Text belongs to WELLNESS category with a confidence of 94.52%\n"
     ]
    }
   ],
   "source": [
    "pred = model.predict(X_test_tfidf)[0]\n",
    "pred_index = np.argmax(pred)\n",
    "conf = pred[pred_index]\n",
    "result = labels[pred_index]\n",
    "\n",
    "print(\"Text belongs to {} category with a confidence of {:.2f}%\".format(result, conf*100))"
   ]
  },
  {
   "cell_type": "code",
   "execution_count": 116,
   "metadata": {},
   "outputs": [
    {
     "data": {
      "text/plain": [
       "((1, 107760),\n",
       " 'cbse rationalise syllabus classes make lost time due covid lockdown central board secondary education cbse considering rationalising syllabus classes next academic year make lost time due covid pandemic board presently process assessing situation well loss call regard taken accordingly')"
      ]
     },
     "execution_count": 116,
     "metadata": {},
     "output_type": "execute_result"
    }
   ],
   "source": [
    "headline = \"CBSE to rationalise syllabus for classes 9-12 to make up for lost time due to Covid-19 lockdown\"\n",
    "short_desc = \"The Central Board of Secondary Education (CBSE) is considering rationalising the syllabus for classes 9 to 12 for the next academic year to make up for lost time due to the Covid-19 pandemic. The board is presently in the process of assessing the situation as well as the loss and a call in this regard will be taken accordingly.\"\n",
    "\n",
    "test = headline + ' ' + short_desc\n",
    "test = preprocess_text(test)\n",
    "X_test = []\n",
    "X_test.append(test)\n",
    "\n",
    "X_test_tfidf = tfidf.transform(X_test)\n",
    "X_test_tfidf.shape, test"
   ]
  },
  {
   "cell_type": "code",
   "execution_count": 117,
   "metadata": {},
   "outputs": [
    {
     "name": "stdout",
     "output_type": "stream",
     "text": [
      "Text belongs to EDUCATION category with a confidence of 87.20%\n"
     ]
    }
   ],
   "source": [
    "pred = model.predict(X_test_tfidf)[0]\n",
    "pred_index = np.argmax(pred)\n",
    "conf = pred[pred_index]\n",
    "result = labels[pred_index]\n",
    "\n",
    "print(\"Text belongs to {} category with a confidence of {:.2f}%\".format(result, conf*100))"
   ]
  }
 ],
 "metadata": {
  "kernelspec": {
   "display_name": "Python 3",
   "language": "python",
   "name": "python3"
  },
  "language_info": {
   "codemirror_mode": {
    "name": "ipython",
    "version": 3
   },
   "file_extension": ".py",
   "mimetype": "text/x-python",
   "name": "python",
   "nbconvert_exporter": "python",
   "pygments_lexer": "ipython3",
   "version": "3.7.3"
  }
 },
 "nbformat": 4,
 "nbformat_minor": 2
}
